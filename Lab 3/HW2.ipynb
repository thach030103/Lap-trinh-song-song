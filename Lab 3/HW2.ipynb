{
  "cells": [
    {
      "cell_type": "markdown",
      "metadata": {
        "id": "eGBgThS8q8k3"
      },
      "source": [
        "Full name: Nguyễn Bửu Thạch\n",
        "\n",
        "Student ID: 20120576"
      ]
    },
    {
      "cell_type": "markdown",
      "metadata": {
        "id": "7qdrvDrCrnqz"
      },
      "source": [
        "# HW2: Parallel Execution in CUDA"
      ]
    },
    {
      "cell_type": "markdown",
      "metadata": {
        "id": "VKXB0wA7yhq9"
      },
      "source": [
        "**To compile your file, you can use this command:** \\\n",
        "`nvcc tên-file.cu -o tên-file-chạy` \\\n",
        "***You can use Vietnamese to anwser the questions***"
      ]
    },
    {
      "cell_type": "markdown",
      "metadata": {
        "id": "DH9lSjFfr3Kw"
      },
      "source": [
        "## Question 1A"
      ]
    },
    {
      "cell_type": "code",
      "execution_count": null,
      "metadata": {
        "id": "aZNqZuECjNso"
      },
      "outputs": [],
      "source": [
        "!nvcc HW2_P1.cu -o HW2_P1"
      ]
    },
    {
      "cell_type": "code",
      "execution_count": null,
      "metadata": {
        "id": "NVFUj14OYUyy",
        "colab": {
          "base_uri": "https://localhost:8080/"
        },
        "outputId": "140343fe-a535-417f-d473-d457eb3f2877"
      },
      "outputs": [
        {
          "output_type": "stream",
          "name": "stdout",
          "text": [
            "**********GPU info**********\n",
            "Name: Tesla T4\n",
            "Compute capability: 7.5\n",
            "Num SMs: 40\n",
            "Max num threads per SM: 1024\n",
            "Max num warps per SM: 32\n",
            "GMEM: 15835660288 bytes\n",
            "****************************\n",
            "\n",
            "Input size: 16777217\n",
            "Host time: 61.411583 ms\n",
            "\n",
            "Kernel 1\n",
            "Grid size: 8193, block size: 1024\n",
            "Kernel time = 2.904512 ms\n",
            "CORRECT :)\n",
            "\n",
            "Kernel 2\n",
            "Grid size: 8193, block size: 1024\n",
            "Kernel time = 3.141568 ms\n",
            "CORRECT :)\n",
            "\n",
            "Kernel 3\n",
            "Grid size: 8193, block size: 1024\n",
            "Kernel time = 0.164064 ms\n",
            "INCORRECT :(\n"
          ]
        }
      ],
      "source": [
        "!./HW2_P1"
      ]
    },
    {
      "cell_type": "markdown",
      "source": [
        "Từ kết quả chạy, bạn so sánh “kernel time” của 3 hàm kernel với nhau và thử giải thích\n",
        "xem tại sao lại như vậy.\\\n",
        "Không biết tại sao"
      ],
      "metadata": {
        "id": "86_pFnV2HBHp"
      }
    },
    {
      "cell_type": "code",
      "source": [
        "!nvprof ./HW2_P1"
      ],
      "metadata": {
        "colab": {
          "base_uri": "https://localhost:8080/"
        },
        "id": "HDPBlqTpQjEM",
        "outputId": "d0789592-7583-4b57-a665-eabf45156119"
      },
      "execution_count": null,
      "outputs": [
        {
          "output_type": "stream",
          "name": "stdout",
          "text": [
            "==594== NVPROF is profiling process 594, command: ./HW2_P1\n",
            "**********GPU info**********\n",
            "Name: Tesla T4\n",
            "Compute capability: 7.5\n",
            "Num SMs: 40\n",
            "Max num threads per SM: 1024\n",
            "Max num warps per SM: 32\n",
            "GMEM: 15835660288 bytes\n",
            "****************************\n",
            "\n",
            "Input size: 16777217\n",
            "Host time: 43.271713 ms\n",
            "\n",
            "Kernel 1\n",
            "Grid size: 8193, block size: 1024\n",
            "Kernel time = 2.902944 ms\n",
            "CORRECT :)\n",
            "\n",
            "Kernel 2\n",
            "Grid size: 8193, block size: 1024\n",
            "Kernel time = 2.754752 ms\n",
            "CORRECT :)\n",
            "\n",
            "Kernel 3\n",
            "Grid size: 8193, block size: 1024\n",
            "Kernel time = 0.231456 ms\n",
            "INCORRECT :(\n",
            "==594== Profiling application: ./HW2_P1\n",
            "==594== Profiling result:\n",
            "            Type  Time(%)      Time     Calls       Avg       Min       Max  Name\n",
            " GPU activities:   75.79%  149.58ms         3  49.859ms  47.623ms  51.895ms  [CUDA memcpy DtoH]\n",
            "                   21.44%  42.318ms         3  14.106ms  13.920ms  14.417ms  [CUDA memcpy HtoD]\n",
            "                    1.36%  2.6892ms         1  2.6892ms  2.6892ms  2.6892ms  reduceBlksKernel2(int*, int*, int)\n",
            "                    1.32%  2.6039ms         1  2.6039ms  2.6039ms  2.6039ms  reduceBlksKernel1(int*, int*, int)\n",
            "                    0.09%  174.97us         1  174.97us  174.97us  174.97us  reduceBlksKernel3(int*, int*, int)\n",
            "      API calls:   65.24%  194.84ms         6  32.473ms  14.083ms  52.769ms  cudaMemcpy\n",
            "                   29.66%  88.584ms         8  11.073ms     839ns  88.551ms  cudaEventCreate\n",
            "                    2.49%  7.4219ms         6  1.2370ms  246.67us  2.2085ms  cudaFree\n",
            "                    1.84%  5.4809ms         3  1.8270ms  175.29us  2.6972ms  cudaDeviceSynchronize\n",
            "                    0.45%  1.3410ms         6  223.50us  148.02us  320.18us  cudaMalloc\n",
            "                    0.12%  355.42us         3  118.47us  35.743us  278.63us  cudaLaunchKernel\n",
            "                    0.09%  260.24us         8  32.530us  5.5670us  77.375us  cudaEventSynchronize\n",
            "                    0.04%  132.60us       114  1.1630us     132ns  52.080us  cuDeviceGetAttribute\n",
            "                    0.03%  89.817us         1  89.817us  89.817us  89.817us  cudaGetDeviceProperties\n",
            "                    0.02%  63.607us         8  7.9500us  3.5670us  13.798us  cudaEventRecord\n",
            "                    0.01%  28.922us         8  3.6150us     741ns  7.6990us  cudaEventDestroy\n",
            "                    0.00%  12.065us         1  12.065us  12.065us  12.065us  cuDeviceGetName\n",
            "                    0.00%  7.9440us         4  1.9860us  1.7420us  2.1500us  cudaEventElapsedTime\n",
            "                    0.00%  6.3950us         1  6.3950us  6.3950us  6.3950us  cuDeviceGetPCIBusId\n",
            "                    0.00%  4.9660us         1  4.9660us  4.9660us  4.9660us  cuDeviceTotalMem\n",
            "                    0.00%  1.8880us         3     629ns     198ns  1.2940us  cuDeviceGetCount\n",
            "                    0.00%  1.2150us         2     607ns     290ns     925ns  cuDeviceGet\n",
            "                    0.00%     993ns         3     331ns     313ns     346ns  cudaGetLastError\n",
            "                    0.00%     442ns         1     442ns     442ns     442ns  cuModuleGetLoadingMode\n",
            "                    0.00%     254ns         1     254ns     254ns     254ns  cuDeviceGetUuid\n"
          ]
        }
      ]
    },
    {
      "cell_type": "markdown",
      "metadata": {
        "id": "XebMjR45-0Io"
      },
      "source": [
        "Nhận xét về thời gian thực thi các công việc trong phần “GPU activities” \\\n",
        "- Thời gian truyền dữ liệu giữa GPU và CPU chiếm phần lớn thời gian, điều này cho thấy việc truyền dữ liệu giữa CPU và GPU là yếu tố quan trọng trong quá trình.\n",
        "- Các kenel thì thực thi nhanh chóng , chỉ chiếm 1 phần nhỏ thời gian."
      ]
    },
    {
      "cell_type": "markdown",
      "metadata": {
        "id": "M9wMWgeV--5b"
      },
      "source": [
        "## Question 1B\n"
      ]
    },
    {
      "cell_type": "code",
      "execution_count": null,
      "metadata": {
        "id": "tMsckPIh_Ije",
        "colab": {
          "base_uri": "https://localhost:8080/"
        },
        "outputId": "63a10ddf-f5fa-4d7b-de42-a87e2b28a8a0"
      },
      "outputs": [
        {
          "output_type": "stream",
          "name": "stdout",
          "text": [
            "**********GPU info**********\n",
            "Name: Tesla T4\n",
            "Compute capability: 7.5\n",
            "Num SMs: 40\n",
            "Max num threads per SM: 1024\n",
            "Max num warps per SM: 32\n",
            "GMEM: 15835660288 bytes\n",
            "****************************\n",
            "\n",
            "Input size: 16777217\n",
            "Host time: 46.011295 ms\n",
            "\n",
            "Kernel 1\n",
            "Grid size: 8193, block size: 1024\n",
            "Kernel time = 2.819072 ms\n",
            "CORRECT :)\n",
            "\n",
            "Kernel 2\n",
            "Grid size: 8193, block size: 1024\n",
            "Kernel time = 2.718688 ms\n",
            "CORRECT :)\n",
            "\n",
            "Kernel 3\n",
            "Grid size: 8193, block size: 1024\n",
            "Kernel time = 0.154816 ms\n",
            "INCORRECT :(\n"
          ]
        }
      ],
      "source": [
        "!./HW2_P1 1024"
      ]
    },
    {
      "cell_type": "code",
      "execution_count": null,
      "metadata": {
        "id": "ydvO00hC_JMW",
        "colab": {
          "base_uri": "https://localhost:8080/"
        },
        "outputId": "8e4d9681-0c70-4876-b4dc-75b2f674577d"
      },
      "outputs": [
        {
          "output_type": "stream",
          "name": "stdout",
          "text": [
            "**********GPU info**********\n",
            "Name: Tesla T4\n",
            "Compute capability: 7.5\n",
            "Num SMs: 40\n",
            "Max num threads per SM: 1024\n",
            "Max num warps per SM: 32\n",
            "GMEM: 15835660288 bytes\n",
            "****************************\n",
            "\n",
            "Input size: 16777217\n",
            "Host time: 43.433216 ms\n",
            "\n",
            "Kernel 1\n",
            "Grid size: 16385, block size: 512\n",
            "Kernel time = 2.117504 ms\n",
            "CORRECT :)\n",
            "\n",
            "Kernel 2\n",
            "Grid size: 16385, block size: 512\n",
            "Kernel time = 2.027072 ms\n",
            "CORRECT :)\n",
            "\n",
            "Kernel 3\n",
            "Grid size: 16385, block size: 512\n",
            "Kernel time = 0.157952 ms\n",
            "INCORRECT :(\n"
          ]
        }
      ],
      "source": [
        "!./HW2_P1 512"
      ]
    },
    {
      "cell_type": "code",
      "execution_count": null,
      "metadata": {
        "id": "OoxamhSa_Jjc",
        "colab": {
          "base_uri": "https://localhost:8080/"
        },
        "outputId": "704a51bd-9af4-48f1-fb68-f20f9ee61b12"
      },
      "outputs": [
        {
          "output_type": "stream",
          "name": "stdout",
          "text": [
            "**********GPU info**********\n",
            "Name: Tesla T4\n",
            "Compute capability: 7.5\n",
            "Num SMs: 40\n",
            "Max num threads per SM: 1024\n",
            "Max num warps per SM: 32\n",
            "GMEM: 15835660288 bytes\n",
            "****************************\n",
            "\n",
            "Input size: 16777217\n",
            "Host time: 50.593151 ms\n",
            "\n",
            "Kernel 1\n",
            "Grid size: 32769, block size: 256\n",
            "Kernel time = 1.839104 ms\n",
            "CORRECT :)\n",
            "\n",
            "Kernel 2\n",
            "Grid size: 32769, block size: 256\n",
            "Kernel time = 1.644864 ms\n",
            "CORRECT :)\n",
            "\n",
            "Kernel 3\n",
            "Grid size: 32769, block size: 256\n",
            "Kernel time = 0.159392 ms\n",
            "INCORRECT :(\n"
          ]
        }
      ],
      "source": [
        "!./HW2_P1 256"
      ]
    },
    {
      "cell_type": "code",
      "execution_count": null,
      "metadata": {
        "id": "MF_Kjjqe_J3F",
        "colab": {
          "base_uri": "https://localhost:8080/"
        },
        "outputId": "cccf7c85-5a9b-41d3-97c1-9b9fa41a002f"
      },
      "outputs": [
        {
          "output_type": "stream",
          "name": "stdout",
          "text": [
            "**********GPU info**********\n",
            "Name: Tesla T4\n",
            "Compute capability: 7.5\n",
            "Num SMs: 40\n",
            "Max num threads per SM: 1024\n",
            "Max num warps per SM: 32\n",
            "GMEM: 15835660288 bytes\n",
            "****************************\n",
            "\n",
            "Input size: 16777217\n",
            "Host time: 43.191296 ms\n",
            "\n",
            "Kernel 1\n",
            "Grid size: 65537, block size: 128\n",
            "Kernel time = 1.575488 ms\n",
            "CORRECT :)\n",
            "\n",
            "Kernel 2\n",
            "Grid size: 65537, block size: 128\n",
            "Kernel time = 1.402944 ms\n",
            "CORRECT :)\n",
            "\n",
            "Kernel 3\n",
            "Grid size: 65537, block size: 128\n",
            "Kernel time = 0.203744 ms\n",
            "INCORRECT :(\n"
          ]
        }
      ],
      "source": [
        "!./HW2_P1 128"
      ]
    },
    {
      "cell_type": "markdown",
      "metadata": {
        "id": "L9PXsn1C_L4L"
      },
      "source": [
        "Block size | Grid size | Num blocks / SM | Occupancy (%) | Kernel time (ms)\n",
        "--- | --- | --- | --- | ---\n",
        "1024 |  8193 | 1 | 100 | 2.819072\n",
        "512 | 16385 | 2 | 100 | 2.117504\n",
        "256 | 32769 | 4 | 100 | 1.839104\n",
        "128 | 65537 | 8 | 100 | 1.575488"
      ]
    },
    {
      "cell_type": "markdown",
      "metadata": {
        "id": "8c811YinAqrd"
      },
      "source": [
        "Theo ràng buộc từ compute capability 7.5\n",
        "- Số block tối đa mỗi SM: 16\n",
        "- Số thread tối đa mỗi SM: 1024 \\\n",
        "\n",
        "####Block size = 1024\n",
        "- Số thread mỗi block: 1024\n",
        "- Giới hạn thread trên mỗi SM: 1024\n",
        "\n",
        "Suy ra:\n",
        "- Num Blocks / SM = $\\frac{1024}{1024}$ = 1\n",
        "- Occupancy (%) = 100% (do tổng số thread đạt giới hạn 1024 thread cho mỗi SM).\n",
        "\n",
        "####Block size = 512\n",
        "- Số thread mỗi block: 512\n",
        "- Giới hạn thread trên mỗi SM: 1024\n",
        "\n",
        "Suy ra:\n",
        "- Num Blocks / SM = $\\frac{1024}{512}$ = 2\n",
        "- Occupancy (%) = 100% (do tổng số thread đạt giới hạn 1024 thread cho mỗi SM).\n",
        "\n",
        "####Block size = 256\n",
        "- Số thread mỗi block: 1024\n",
        "- Giới hạn thread trên mỗi SM: 1024\n",
        "\n",
        "Suy ra:\n",
        "- Num Blocks / SM = $\\frac{1024}{256}$ = 4\n",
        "- Occupancy (%) = 100% (do tổng số thread đạt giới hạn 1024 thread cho mỗi SM).\n",
        "\n",
        "####Block size = 128\n",
        "- Số thread mỗi block: 128\n",
        "- Giới hạn thread trên mỗi SM: 1024\n",
        "\n",
        "Suy ra:\n",
        "- Num Blocks / SM = $\\frac{1024}{128}$ = 8\n",
        "- Occupancy (%) = 100% (do tổng số thread đạt giới hạn 1024 thread cho mỗi SM).\n"
      ]
    },
    {
      "cell_type": "markdown",
      "metadata": {
        "id": "jAJMwEeh6Xzv"
      },
      "source": [
        "## Question 2A"
      ]
    },
    {
      "cell_type": "markdown",
      "metadata": {
        "id": "GG1mOFWW7zlB"
      },
      "source": []
    },
    {
      "cell_type": "code",
      "execution_count": null,
      "metadata": {
        "id": "vbDf8XqIGFW6"
      },
      "outputs": [],
      "source": [
        "!nvcc HW2_P2.cu -o HW2_P2"
      ]
    },
    {
      "cell_type": "code",
      "execution_count": null,
      "metadata": {
        "id": "3IfmucpNibmm",
        "colab": {
          "base_uri": "https://localhost:8080/"
        },
        "outputId": "83b3b52a-081a-437c-94ab-50579f6c841f"
      },
      "outputs": [
        {
          "output_type": "stream",
          "name": "stdout",
          "text": [
            "**********GPU info**********\n",
            "Name: Tesla T4\n",
            "Compute capability: 7.5\n",
            "Num SMs: 40\n",
            "Max num threads per SM: 1024\n",
            "Max num warps per SM: 32\n",
            "GMEM: 15835660288 bytes\n",
            "****************************\n",
            "\n",
            "Processing time (use host): 3541.761963 ms\n",
            "\n",
            "Basic Matrix Multiplication:\n",
            "Grid size: 32 * 32, block size: 32 * 32\n",
            "Processing time (use device): 8.573024 ms\n",
            "Error between device result and host result: 0.000004\n",
            "\n",
            "Shared memory Matrix Multiplication:\n",
            "Grid size: 32 * 32, block size: 32 * 32\n",
            "Processing time (use device): 5.461952 ms\n",
            "Error between device result and host result: 0.000004\n",
            "\n"
          ]
        }
      ],
      "source": [
        "!./HW2_P2"
      ]
    },
    {
      "cell_type": "code",
      "source": [
        "!nvprof ./HW2_P2"
      ],
      "metadata": {
        "colab": {
          "base_uri": "https://localhost:8080/"
        },
        "id": "u0oxU6J06-jL",
        "outputId": "3f894897-51f3-4141-e037-64ede6b35aa9"
      },
      "execution_count": null,
      "outputs": [
        {
          "output_type": "stream",
          "name": "stdout",
          "text": [
            "==2891== NVPROF is profiling process 2891, command: ./HW2_P2\n",
            "**********GPU info**********\n",
            "Name: Tesla T4\n",
            "Compute capability: 7.5\n",
            "Num SMs: 40\n",
            "Max num threads per SM: 1024\n",
            "Max num warps per SM: 32\n",
            "GMEM: 15835660288 bytes\n",
            "****************************\n",
            "\n",
            "Processing time (use host): 3700.514893 ms\n",
            "\n",
            "Basic Matrix Multiplication:\n",
            "Grid size: 32 * 32, block size: 32 * 32\n",
            "Processing time (use device): 8.440320 ms\n",
            "Error between device result and host result: 0.000004\n",
            "\n",
            "Shared memory Matrix Multiplication:\n",
            "Grid size: 32 * 32, block size: 32 * 32\n",
            "Processing time (use device): 5.295264 ms\n",
            "Error between device result and host result: 0.000004\n",
            "\n",
            "==2891== Profiling application: ./HW2_P2\n",
            "==2891== Profiling result:\n",
            "            Type  Time(%)      Time     Calls       Avg       Min       Max  Name\n",
            " GPU activities:   34.72%  3.2667ms         1  3.2667ms  3.2667ms  3.2667ms  matrix_multiplication_kernel1(float*, float*, float*, int, int, int)\n",
            "                   28.22%  2.6551ms         1  2.6551ms  2.6551ms  2.6551ms  matrix_multiplication_kernel2(float*, float*, float*, int, int, int)\n",
            "                   24.09%  2.2663ms         2  1.1332ms  587.60us  1.6787ms  [CUDA memcpy DtoH]\n",
            "                   12.98%  1.2211ms         4  305.28us  284.15us  321.37us  [CUDA memcpy HtoD]\n",
            "      API calls:   86.83%  92.587ms         6  15.431ms     977ns  92.566ms  cudaEventCreate\n",
            "                   11.12%  11.857ms         6  1.9762ms  469.60us  6.2984ms  cudaMemcpy\n",
            "                    0.68%  726.25us         6  121.04us  114.49us  145.53us  cudaFree\n",
            "                    0.64%  686.04us         6  114.34us  63.356us  224.33us  cudaMalloc\n",
            "                    0.35%  375.67us         2  187.84us  43.098us  332.58us  cudaLaunchKernel\n",
            "                    0.13%  137.03us       114  1.2010us     141ns  56.293us  cuDeviceGetAttribute\n",
            "                    0.08%  90.501us         1  90.501us  90.501us  90.501us  cudaGetDeviceProperties\n",
            "                    0.07%  75.390us         6  12.565us  3.5160us  26.327us  cudaEventRecord\n",
            "                    0.04%  47.777us         6  7.9620us  5.6790us  15.196us  cudaEventSynchronize\n",
            "                    0.02%  18.516us         6  3.0860us     802ns  11.249us  cudaEventDestroy\n",
            "                    0.01%  10.807us         1  10.807us  10.807us  10.807us  cuDeviceGetName\n",
            "                    0.01%  8.1860us         3  2.7280us  2.3060us  3.4400us  cudaEventElapsedTime\n",
            "                    0.01%  5.5580us         1  5.5580us  5.5580us  5.5580us  cuDeviceGetPCIBusId\n",
            "                    0.00%  4.3460us         1  4.3460us  4.3460us  4.3460us  cuDeviceTotalMem\n",
            "                    0.00%  1.5520us         3     517ns     194ns  1.1010us  cuDeviceGetCount\n",
            "                    0.00%     995ns         2     497ns     181ns     814ns  cuDeviceGet\n",
            "                    0.00%     621ns         1     621ns     621ns     621ns  cuModuleGetLoadingMode\n",
            "                    0.00%     212ns         1     212ns     212ns     212ns  cuDeviceGetUuid\n"
          ]
        }
      ]
    },
    {
      "cell_type": "markdown",
      "source": [
        "Nhận xét về thời gian thực thi các công việc trong phần “GPU activities” \\\n",
        "- Các kenel thực thi nhanh chóng và chiếm phần lớn thời gian, điều này cho thấy việc tính toán nhân ma trận đã được thực hiện một cách hiệu quả.\n",
        "- Thời gian truyền dữ liệu giữa GPU và CPU chiếm phần nhỏ hơn so với thời gian thực thi các kernel, không còn chiếm nhiều thời gian trong quá trình nữa"
      ],
      "metadata": {
        "id": "N_jLOcmcJJ1q"
      }
    },
    {
      "cell_type": "markdown",
      "metadata": {
        "id": "OwzjJVcZE2Yc"
      },
      "source": [
        "## Question 2B"
      ]
    },
    {
      "cell_type": "markdown",
      "metadata": {
        "id": "R9uHdHmj6Xzw"
      },
      "source": [
        "**For Basic Matrix Multipication**"
      ]
    },
    {
      "cell_type": "markdown",
      "source": [
        "$m= 2^{10} = 1024$ \\\n",
        "$n= 2^9 = 512$ \\\n",
        "$k= 2^{10} = 1024$\n"
      ],
      "metadata": {
        "id": "QNMyYpU9VRnv"
      }
    },
    {
      "cell_type": "markdown",
      "metadata": {
        "id": "80ul4Xje6Xzw"
      },
      "source": [
        "1. How many floating operations are being performed in your matrix multiply\n",
        "kernel? Explain"
      ]
    },
    {
      "cell_type": "markdown",
      "metadata": {
        "id": "ODl1isaS6Xzw"
      },
      "source": [
        "Với ma trận A kích thước $𝑚*n$ và ma trận B kích thước $n*k$: \\\n",
        "- Mỗi phần tử trong ma trận kết quả C (kích thước $𝑚*k$) cần $n$ phép nhân và $n-1$ phép cộng\n",
        "- Số phép toán cho toàn bộ ma trận C: \\\n",
        "Phép nhân: $m*k*n$ \\\n",
        "Phép nhân: $m*k*(n-1)$ \\\n",
        "\n",
        "Vậy tổng số FLOPs cần cho toàn bộ phép nhân ma trận là $m*k*n + m*k*(n-1) = m*k*(2n-1) = 1024*1024*(2*512-1)$ \\\n"
      ]
    },
    {
      "cell_type": "markdown",
      "metadata": {
        "id": "zAY0-zsK6Xzx"
      },
      "source": [
        "2. How many global memory reads are being performed by your kernel? Explain"
      ]
    },
    {
      "cell_type": "markdown",
      "metadata": {
        "id": "q2Jy8U2s6Xzx"
      },
      "source": [
        "Với ma trận A kích thước $m*n$ và ma trận B kích thước $n*k$:\n",
        "- Mỗi phần tử của C ta cần n phép đọc từ A và n phép đọc từ B \\\n",
        "- Ma trận C(kích thước $m*k$) có tổng cộng $m*k$ phần tử\n",
        "\n",
        "Do đó: \\\n",
        "- Tổng số phép đọc từ A là $m*k*n$ \\\n",
        "- Tổng số phép đọc từ B là $m*k*n$ \\\n",
        "\n",
        "Vậy tổng số lần đọc bộ nhớ toàn cục (global memory) là \\\n",
        "$m*k*n+m*k*n = 2*m*n*k = 2*1024*512*1024$"
      ]
    },
    {
      "cell_type": "markdown",
      "metadata": {
        "id": "_OnNQAQZ6Xzx"
      },
      "source": [
        "3. How many global memory writes are being performed by your kernel? Explain."
      ]
    },
    {
      "cell_type": "markdown",
      "metadata": {
        "id": "qcUvBN5n6Xzz"
      },
      "source": [
        "- Mỗi phần tử của ma trận C chỉ được ghi vào bộ nhớ toàn cục một lần sau khi hoàn thành tính toán.\n",
        "- Ma trận C kích thước $m*k$, nghĩa là ma trận C có $m*k$ phần tử  \\\n",
        "\n",
        "Tổng số phép ghi vào bộ nhớ toàn cục là\n",
        "$m*k=1024*1024$\n"
      ]
    },
    {
      "cell_type": "markdown",
      "metadata": {
        "id": "1DHpW1z16Xzz"
      },
      "source": [
        "**For Tiled Matrix Multipication**"
      ]
    },
    {
      "cell_type": "markdown",
      "metadata": {
        "id": "wELeC_046Xz0"
      },
      "source": [
        "1. How many floating operations are being performed in your matrix multiply\n",
        "kernel? Explain"
      ]
    },
    {
      "cell_type": "markdown",
      "metadata": {
        "id": "-sdtgNhX6Xz0"
      },
      "source": []
    },
    {
      "cell_type": "markdown",
      "metadata": {
        "id": "W2-_dorT6Xz1"
      },
      "source": [
        "2. How many global memory reads are being performed by your kernel? Explain"
      ]
    },
    {
      "cell_type": "markdown",
      "metadata": {
        "id": "z-qmoLWl6Xz1"
      },
      "source": []
    },
    {
      "cell_type": "markdown",
      "metadata": {
        "id": "uyhP6LXO6Xz1"
      },
      "source": [
        "3. How many global memory writes are being performed by your kernel? Explain"
      ]
    },
    {
      "cell_type": "markdown",
      "metadata": {
        "id": "RWStrpyU6Xz1"
      },
      "source": []
    }
  ],
  "metadata": {
    "accelerator": "GPU",
    "colab": {
      "provenance": []
    },
    "kernelspec": {
      "display_name": "Python 3 (ipykernel)",
      "language": "python",
      "name": "python3"
    },
    "language_info": {
      "codemirror_mode": {
        "name": "ipython",
        "version": 3
      },
      "file_extension": ".py",
      "mimetype": "text/x-python",
      "name": "python",
      "nbconvert_exporter": "python",
      "pygments_lexer": "ipython3",
      "version": "3.11.6"
    }
  },
  "nbformat": 4,
  "nbformat_minor": 0
}