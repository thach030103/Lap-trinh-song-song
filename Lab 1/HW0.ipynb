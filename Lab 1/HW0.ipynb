{
  "nbformat": 4,
  "nbformat_minor": 0,
  "metadata": {
    "colab": {
      "provenance": [],
      "gpuType": "T4"
    },
    "kernelspec": {
      "name": "python3",
      "display_name": "Python 3"
    },
    "accelerator": "GPU"
  },
  "cells": [
    {
      "cell_type": "markdown",
      "metadata": {
        "id": "eGBgThS8q8k3"
      },
      "source": [
        "Họ tên: Nguyễn Bửu Thạch\n",
        "\n",
        "MSSV: 20120576"
      ]
    },
    {
      "cell_type": "markdown",
      "metadata": {
        "id": "7qdrvDrCrnqz"
      },
      "source": [
        "# HW0: Làm quen với CUDA"
      ]
    },
    {
      "cell_type": "markdown",
      "metadata": {
        "id": "VKXB0wA7yhq9"
      },
      "source": [
        "Với các GPU tương đối mới thì để biên dịch chỉ cần dùng câu lệnh: \\\n",
        "`nvcc tên-file.cu -o tên-file-chạy`\n",
        "\n",
        "Nhưng trên Colab mình thường lấy được GPU khá cũ là Tesla K80 với compute capability (phiên bản phần cứng) là 3.7; để biên dịch đúng với GPU khá cũ này thì bạn cần dùng câu lệnh: \\\n",
        "`nvcc -arch=sm_37 tên-file.cu -o tên-file-chạy` \\\n",
        "Trong đó, 37 chính là compute capability của GPU Tesla K80.\n",
        "\n",
        "Để phòng trường hợp khi làm bài bạn lấy được GPU có compute capability x.x nhưng khi chấm bài Thầy lại lấy được GPU có compute capability khác x.x, dưới đây mình sẽ có đoạn code Python để tự động lấy 2 con số ứng với compute capability của GPU và lưu vào 2 biến `major` và `minor`:\n"
      ]
    },
    {
      "cell_type": "code",
      "metadata": {
        "id": "bCkmnirl2xWF"
      },
      "source": [
        "from numba import cuda\n",
        "major, minor = cuda.get_current_device().compute_capability\n",
        "print(f'GPU compute capability: {major}.{minor}')"
      ],
      "execution_count": null,
      "outputs": []
    },
    {
      "cell_type": "markdown",
      "metadata": {
        "id": "Tq1-pmi72yS6"
      },
      "source": [
        "Một khi đã chạy đoạn code Python ở trên, để biên dịch thì bạn sẽ dùng câu lệnh: \\\n",
        "`nvcc -arch=sm_{major}{minor} tên-file.cu -o tên-file-chạy`"
      ]
    },
    {
      "cell_type": "markdown",
      "metadata": {
        "id": "QkZaH7EE-ocN"
      },
      "source": [
        "Dưới đây, khi làm bài thì bạn có thể tùy ý thêm/xóa cell. Đừng xóa mấy cell có chữ của Thầy là được."
      ]
    },
    {
      "cell_type": "markdown",
      "metadata": {
        "id": "DH9lSjFfr3Kw"
      },
      "source": [
        "## Câu 1"
      ]
    },
    {
      "cell_type": "code",
      "source": [
        "!nvcc HW0_P1.cu -o HW0_P1"
      ],
      "metadata": {
        "id": "SG9DA_hgPsxW"
      },
      "execution_count": 1,
      "outputs": []
    },
    {
      "cell_type": "code",
      "source": [
        "!./HW0_P1"
      ],
      "metadata": {
        "id": "aSVT8U1bPxou",
        "colab": {
          "base_uri": "https://localhost:8080/"
        },
        "outputId": "f7b48e79-2b8b-44f3-850c-687f2e3aa6da"
      },
      "execution_count": 2,
      "outputs": [
        {
          "output_type": "stream",
          "name": "stdout",
          "text": [
            "Information GPU Card: \n",
            "1/GPU card's name: Tesla T4\n",
            "2/GPU computation capabilities: 7.5\n",
            "3/Maximum number of block dimensions: 1024 x 1024 x 64\n",
            "4/Maximum number of grid dimensions: 2147483647 x 65535 x 65535\n",
            "5/Maximum size of GPU memory: 15835660288 bytes\n",
            "6/Amount of constant and share memory: \n",
            "Amount of constant memory: 65536 bytes\n",
            "Amount of shared memory: 49152 bytes\n",
            "7/Warp size: 32\n"
          ]
        }
      ]
    },
    {
      "cell_type": "markdown",
      "source": [
        "Kết quả sau khi chạy chương trình:\n"
      ],
      "metadata": {
        "id": "7w6PCYKwPCRm"
      }
    },
    {
      "cell_type": "markdown",
      "source": [
        "Information GPU Card:\\\n",
        "1/GPU card's name: Tesla T4 \\\n",
        "2/GPU computation capabilities: 7.5 \\\n",
        "3/Maximum number of block dimensions: 1024 x 1024 x 64 \\\n",
        "4/Maximum number of grid dimensions: 2147483647 x 65535 x 65535 \\\n",
        "5/Maximum size of GPU memory: 15835660288 bytes \\\n",
        "6/Amount of constant and share memory: \\\n",
        "Amount of constant memory: 65536 bytes \\\n",
        "Amount of shared memory: 49152 bytes \\\n",
        "7/Warp size: 32 \\"
      ],
      "metadata": {
        "id": "d-N_jNmIFwjo"
      }
    },
    {
      "cell_type": "markdown",
      "metadata": {
        "id": "XlycLWxberDO"
      },
      "source": [
        "## Câu 2"
      ]
    },
    {
      "cell_type": "code",
      "metadata": {
        "id": "gE-rY5TesEFe"
      },
      "source": [
        "!nvcc HW0_P2.cu -o HW0_P2"
      ],
      "execution_count": 6,
      "outputs": []
    },
    {
      "cell_type": "code",
      "source": [
        "!./HW0_P2"
      ],
      "metadata": {
        "id": "HMUMbjLhRN_J",
        "colab": {
          "base_uri": "https://localhost:8080/"
        },
        "outputId": "f786ce29-ab05-40bf-9f4b-bccf72ea44d4"
      },
      "execution_count": 7,
      "outputs": [
        {
          "output_type": "stream",
          "name": "stdout",
          "text": [
            "Vector Size = 64\n",
            "Processing time (use host): 0.010176 ms\n",
            "GPU name: Tesla T4\n",
            "GPU compute capability: 7.5\n",
            "Processing time (use version 1): 0.23552 ms\n",
            "CORRECT for version 1\n",
            "GPU name: Tesla T4\n",
            "GPU compute capability: 7.5\n",
            "Processing time (use version 2): 0.02192 ms\n",
            "CORRECT for version 2\n",
            "Vector Size = 256\n",
            "Processing time (use host): 0.00896 ms\n",
            "GPU name: Tesla T4\n",
            "GPU compute capability: 7.5\n",
            "Processing time (use version 1): 0.034304 ms\n",
            "CORRECT for version 1\n",
            "GPU name: Tesla T4\n",
            "GPU compute capability: 7.5\n",
            "Processing time (use version 2): 0.024608 ms\n",
            "CORRECT for version 2\n",
            "Vector Size = 1024\n",
            "Processing time (use host): 0.012896 ms\n",
            "GPU name: Tesla T4\n",
            "GPU compute capability: 7.5\n",
            "Processing time (use version 1): 0.026624 ms\n",
            "CORRECT for version 1\n",
            "GPU name: Tesla T4\n",
            "GPU compute capability: 7.5\n",
            "Processing time (use version 2): 0.024608 ms\n",
            "CORRECT for version 2\n",
            "Vector Size = 4096\n",
            "Processing time (use host): 0.046784 ms\n",
            "GPU name: Tesla T4\n",
            "GPU compute capability: 7.5\n",
            "Processing time (use version 1): 0.026976 ms\n",
            "CORRECT for version 1\n",
            "GPU name: Tesla T4\n",
            "GPU compute capability: 7.5\n",
            "Processing time (use version 2): 0.025088 ms\n",
            "CORRECT for version 2\n",
            "Vector Size = 16384\n",
            "Processing time (use host): 0.086624 ms\n",
            "GPU name: Tesla T4\n",
            "GPU compute capability: 7.5\n",
            "Processing time (use version 1): 0.02416 ms\n",
            "CORRECT for version 1\n",
            "GPU name: Tesla T4\n",
            "GPU compute capability: 7.5\n",
            "Processing time (use version 2): 0.022336 ms\n",
            "CORRECT for version 2\n",
            "Vector Size = 65536\n",
            "Processing time (use host): 0.330528 ms\n",
            "GPU name: Tesla T4\n",
            "GPU compute capability: 7.5\n",
            "Processing time (use version 1): 0.02672 ms\n",
            "CORRECT for version 1\n",
            "GPU name: Tesla T4\n",
            "GPU compute capability: 7.5\n",
            "Processing time (use version 2): 0.024864 ms\n",
            "CORRECT for version 2\n",
            "Vector Size = 262144\n",
            "Processing time (use host): 1.27485 ms\n",
            "GPU name: Tesla T4\n",
            "GPU compute capability: 7.5\n",
            "Processing time (use version 1): 0.036256 ms\n",
            "CORRECT for version 1\n",
            "GPU name: Tesla T4\n",
            "GPU compute capability: 7.5\n",
            "Processing time (use version 2): 0.03216 ms\n",
            "CORRECT for version 2\n",
            "Vector Size = 1048576\n",
            "Processing time (use host): 4.89677 ms\n",
            "GPU name: Tesla T4\n",
            "GPU compute capability: 7.5\n",
            "Processing time (use version 1): 0.080224 ms\n",
            "CORRECT for version 1\n",
            "GPU name: Tesla T4\n",
            "GPU compute capability: 7.5\n",
            "Processing time (use version 2): 0.081184 ms\n",
            "CORRECT for version 2\n",
            "Vector Size = 4194304\n",
            "Processing time (use host): 20.0278 ms\n",
            "GPU name: Tesla T4\n",
            "GPU compute capability: 7.5\n",
            "Processing time (use version 1): 0.259296 ms\n",
            "CORRECT for version 1\n",
            "GPU name: Tesla T4\n",
            "GPU compute capability: 7.5\n",
            "Processing time (use version 2): 0.26864 ms\n",
            "CORRECT for version 2\n",
            "Vector Size = 16777216\n",
            "Processing time (use host): 81.67 ms\n",
            "GPU name: Tesla T4\n",
            "GPU compute capability: 7.5\n",
            "Processing time (use version 1): 0.936064 ms\n",
            "CORRECT for version 1\n",
            "GPU name: Tesla T4\n",
            "GPU compute capability: 7.5\n",
            "Processing time (use version 2): 1.02307 ms\n",
            "CORRECT for version 2\n"
          ]
        }
      ]
    },
    {
      "cell_type": "markdown",
      "source": [
        "Kết quả sau khi chạy chương trình:"
      ],
      "metadata": {
        "id": "25LWvMCwRWFg"
      }
    },
    {
      "cell_type": "markdown",
      "source": [
        "| Vector size | Host time | Device time (Version 1) | Device time (Version 2) |  \n",
        "|-------------|-----------|-------------------------|--------------------------|  \n",
        "|64|0.010176 ms|0.23552 ms|0.02192 ms|\n",
        "|256|0.00896 ms|0.034304 ms|0.024608 ms|\n",
        "|1024|0.012896 ms|0.026624 ms|0.024608 ms|\n",
        "|4096|0.046784 ms|0.026976 ms|0.025088 ms|\n",
        "|16384|0.086624 ms|0.02416 ms|0.022336 ms|\n",
        "|65536|0.330528 ms|0.02672 ms|0.024864 ms|\n",
        "|262144|1.27485 ms|0.036256 ms| 0.03216 ms|\n",
        "|1048576|4.89677 ms|0.080224 ms|0.081184 ms|\n",
        "|4194304|20.0278 ms|0.259296 ms|0.26864 ms|\n",
        "|16777216|81.67 ms|0.936064 ms|1.02307 ms|\n",
        "\n",
        "\n",
        "\n"
      ],
      "metadata": {
        "id": "Q7uy4blbRasi"
      }
    },
    {
      "cell_type": "markdown",
      "source": [
        "Em có tham khảo file 01-AddVector.cu và có sử dụng lại  GpuTimer, hàm addVecOnHost, hàm AddVec và int main() để làm câu 2"
      ],
      "metadata": {
        "id": "hpPY3MI6uCqH"
      }
    }
  ]
}